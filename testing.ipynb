{
 "cells": [
  {
   "cell_type": "code",
   "execution_count": null,
   "metadata": {},
   "outputs": [],
   "source": [
    "import cv2\n",
    "import numpy as np\n",
    "import matplotlib.pyplot as plt\n",
    "\n",
    "yolo = cv2.dnn.readNet(\"./yolov3_training_last.weights\", \"./yolov3_testing.cfg\")\n",
    "classes = [\"garbage\"]\n",
    "img = cv2.imread(\"./images/4.road-littered-with-newspapers-usa-d20bj4.jpg\")\n",
    "blob = cv2.dnn.blobFromImage(img,1/255,(320,320),(0,0,0),swapRB=True,crop=False)\n",
    "\n",
    "i= blob[0].reshape(320,320,3)\n",
    "yolo.setInput(blob)\n",
    "output_layers_name = yolo.getUnconnectedOutLayersNames()\n",
    "layeroutput = yolo.forward(output_layers_name)\n",
    "\n",
    "\n",
    "boxs = []\n",
    "confidences = []\n",
    "class_ids = []\n",
    "for output in layeroutput:\n",
    "    for detection in output:\n",
    "        score = detection[5:]\n",
    "        class_id = np.argmax(score)\n",
    "        confidence = score[class_id]\n",
    "        if confidence > 0.7:\n",
    "            center_x = int(detection[0]*width)\n",
    "            center_x = int(detection[0]*height)\n",
    "            w = int(detection[0]*width)\n",
    "            h = int(detection[0]*height)\n",
    "\n",
    "            x = int(center_x - w/2)\n",
    "            x = int(center_y - h/2)\n",
    "\n",
    "            boxes.append([x,y,w,h])\n",
    "            confidences.append(float(confidence))\n",
    "            class_ids.append(class_id)\n",
    "\n",
    "indexes = cv2.dnn.NMSBoxes(boxs,confidences,0.5,0.4)\n",
    "font = cv2.FONT_HERSHEY_PLAIN\n",
    "colors = np.random.uniform(0,255,size=(len(boxs),3))\n",
    "\n",
    "if len(indexes) > 0:\n",
    "    for i in indexes.flatten():\n",
    "        x,y,w,h = boxs[i]\n",
    "\n",
    "        label = str(classes[class_ids[i]])\n",
    "        confi = str(round(confidences[i],2))\n",
    "        color = colors[i]\n",
    "\n",
    "        cv2.rectangle(img,(x,y),(x+w,y+h),color,1)\n",
    "        cv2.putText(img,label+\" \"+confi,(x,y+20),font,2,(255,255,255),2)\n",
    "plt.imshow(img)"
   ]
  }
 ],
 "metadata": {
  "interpreter": {
   "hash": "4f3b078249380ea762697f4f8f6aea77b3d6e43cbb1b18cbb73d8cde5aa597e7"
  },
  "kernelspec": {
   "display_name": "Python 3.9.7 64-bit (system)",
   "language": "python",
   "name": "python3"
  },
  "language_info": {
   "name": "python",
   "version": "3.9.7"
  },
  "orig_nbformat": 4
 },
 "nbformat": 4,
 "nbformat_minor": 2
}
